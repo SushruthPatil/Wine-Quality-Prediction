{
  "cells": [
    {
      "cell_type": "markdown",
      "metadata": {
        "id": "view-in-github",
        "colab_type": "text"
      },
      "source": [
        "<a href=\"https://colab.research.google.com/github/SushruthPatil/Wine-Quality-Prediction/blob/main/Wine_Prediction.ipynb\" target=\"_parent\"><img src=\"https://colab.research.google.com/assets/colab-badge.svg\" alt=\"Open In Colab\"/></a>"
      ]
    },
    {
      "cell_type": "markdown",
      "source": [
        "# Welcome to the Wine quality prediction Notebook\n"
      ],
      "metadata": {
        "id": "Kc9w9EOMcrsM"
      }
    },
    {
      "cell_type": "code",
      "execution_count": null,
      "metadata": {
        "_cell_guid": "87c7b371-53b1-4d4d-bfbd-373d2b84b33a",
        "_uuid": "da5343fb3f6b3942909c94bf8e2add04fd3ff1a3",
        "collapsed": true,
        "id": "HcCta8AVcZOv"
      },
      "outputs": [],
      "source": [
        "#Importing required packages.\n",
        "import pandas as pd\n",
        "import seaborn as sns\n",
        "import matplotlib.pyplot as plt\n",
        "from sklearn.ensemble import RandomForestClassifier\n",
        "from sklearn.metrics import confusion_matrix, classification_report\n",
        "from sklearn.preprocessing import StandardScaler, LabelEncoder\n",
        "from sklearn.model_selection import train_test_split, GridSearchCV, cross_val_score\n",
        "%matplotlib inline"
      ]
    },
    {
      "cell_type": "code",
      "execution_count": null,
      "metadata": {
        "_cell_guid": "800f9ff4-79bf-4785-9569-23e1d9b9b03b",
        "_uuid": "07c8409e4eccd80507d9846e8cc70ea42e58cbe6",
        "collapsed": true,
        "id": "OfaQLrkzcZOy"
      },
      "outputs": [],
      "source": [
        "#Loading dataset\n",
        "wine = pd.read_csv('/winequality-red.csv')"
      ]
    },
    {
      "cell_type": "markdown",
      "source": [
        "This dataset is related to red variants of the Portuguese \"Vinho Verde\" wine.\n",
        "Input variables:\n",
        "1. - fixed acidity\n",
        "2. - volatile acidity\n",
        "3. - citric acid\n",
        "4. - residual sugar\n",
        "5. - chlorides\n",
        "6. - free sulfur dioxide\n",
        "7. - total sulfur dioxide\n",
        "8. - density\n",
        "9. - pH\n",
        "10. - sulphates\n",
        "11. - alcohol\n",
        "\n",
        "Output variable (based on sensory data):\n",
        "1. - quality (score between 0 and 10)\n",
        "\n"
      ],
      "metadata": {
        "id": "jLIZmDxUeA2h"
      }
    },
    {
      "cell_type": "code",
      "execution_count": null,
      "metadata": {
        "_cell_guid": "019cbcee-6cb2-478c-922b-ccebe4962769",
        "_uuid": "45ff42953e9082cd55612a4774408cc97a05fb11",
        "colab": {
          "base_uri": "https://localhost:8080/",
          "height": 206
        },
        "id": "k2sZzjmgcZOy",
        "outputId": "785b3e81-9359-452a-ae9e-224d793e8cf7"
      },
      "outputs": [
        {
          "output_type": "execute_result",
          "data": {
            "text/plain": [
              "   fixed acidity  volatile acidity  citric acid  residual sugar  chlorides  \\\n",
              "0            7.4              0.70         0.00             1.9      0.076   \n",
              "1            7.8              0.88         0.00             2.6      0.098   \n",
              "2            7.8              0.76         0.04             2.3      0.092   \n",
              "3           11.2              0.28         0.56             1.9      0.075   \n",
              "4            7.4              0.70         0.00             1.9      0.076   \n",
              "\n",
              "   free sulfur dioxide  total sulfur dioxide  density    pH  sulphates  \\\n",
              "0                 11.0                  34.0   0.9978  3.51       0.56   \n",
              "1                 25.0                  67.0   0.9968  3.20       0.68   \n",
              "2                 15.0                  54.0   0.9970  3.26       0.65   \n",
              "3                 17.0                  60.0   0.9980  3.16       0.58   \n",
              "4                 11.0                  34.0   0.9978  3.51       0.56   \n",
              "\n",
              "   alcohol  quality  \n",
              "0      9.4        5  \n",
              "1      9.8        5  \n",
              "2      9.8        5  \n",
              "3      9.8        6  \n",
              "4      9.4        5  "
            ],
            "text/html": [
              "\n",
              "  <div id=\"df-b93d3b75-9613-4608-ab8a-b92220481146\">\n",
              "    <div class=\"colab-df-container\">\n",
              "      <div>\n",
              "<style scoped>\n",
              "    .dataframe tbody tr th:only-of-type {\n",
              "        vertical-align: middle;\n",
              "    }\n",
              "\n",
              "    .dataframe tbody tr th {\n",
              "        vertical-align: top;\n",
              "    }\n",
              "\n",
              "    .dataframe thead th {\n",
              "        text-align: right;\n",
              "    }\n",
              "</style>\n",
              "<table border=\"1\" class=\"dataframe\">\n",
              "  <thead>\n",
              "    <tr style=\"text-align: right;\">\n",
              "      <th></th>\n",
              "      <th>fixed acidity</th>\n",
              "      <th>volatile acidity</th>\n",
              "      <th>citric acid</th>\n",
              "      <th>residual sugar</th>\n",
              "      <th>chlorides</th>\n",
              "      <th>free sulfur dioxide</th>\n",
              "      <th>total sulfur dioxide</th>\n",
              "      <th>density</th>\n",
              "      <th>pH</th>\n",
              "      <th>sulphates</th>\n",
              "      <th>alcohol</th>\n",
              "      <th>quality</th>\n",
              "    </tr>\n",
              "  </thead>\n",
              "  <tbody>\n",
              "    <tr>\n",
              "      <th>0</th>\n",
              "      <td>7.4</td>\n",
              "      <td>0.70</td>\n",
              "      <td>0.00</td>\n",
              "      <td>1.9</td>\n",
              "      <td>0.076</td>\n",
              "      <td>11.0</td>\n",
              "      <td>34.0</td>\n",
              "      <td>0.9978</td>\n",
              "      <td>3.51</td>\n",
              "      <td>0.56</td>\n",
              "      <td>9.4</td>\n",
              "      <td>5</td>\n",
              "    </tr>\n",
              "    <tr>\n",
              "      <th>1</th>\n",
              "      <td>7.8</td>\n",
              "      <td>0.88</td>\n",
              "      <td>0.00</td>\n",
              "      <td>2.6</td>\n",
              "      <td>0.098</td>\n",
              "      <td>25.0</td>\n",
              "      <td>67.0</td>\n",
              "      <td>0.9968</td>\n",
              "      <td>3.20</td>\n",
              "      <td>0.68</td>\n",
              "      <td>9.8</td>\n",
              "      <td>5</td>\n",
              "    </tr>\n",
              "    <tr>\n",
              "      <th>2</th>\n",
              "      <td>7.8</td>\n",
              "      <td>0.76</td>\n",
              "      <td>0.04</td>\n",
              "      <td>2.3</td>\n",
              "      <td>0.092</td>\n",
              "      <td>15.0</td>\n",
              "      <td>54.0</td>\n",
              "      <td>0.9970</td>\n",
              "      <td>3.26</td>\n",
              "      <td>0.65</td>\n",
              "      <td>9.8</td>\n",
              "      <td>5</td>\n",
              "    </tr>\n",
              "    <tr>\n",
              "      <th>3</th>\n",
              "      <td>11.2</td>\n",
              "      <td>0.28</td>\n",
              "      <td>0.56</td>\n",
              "      <td>1.9</td>\n",
              "      <td>0.075</td>\n",
              "      <td>17.0</td>\n",
              "      <td>60.0</td>\n",
              "      <td>0.9980</td>\n",
              "      <td>3.16</td>\n",
              "      <td>0.58</td>\n",
              "      <td>9.8</td>\n",
              "      <td>6</td>\n",
              "    </tr>\n",
              "    <tr>\n",
              "      <th>4</th>\n",
              "      <td>7.4</td>\n",
              "      <td>0.70</td>\n",
              "      <td>0.00</td>\n",
              "      <td>1.9</td>\n",
              "      <td>0.076</td>\n",
              "      <td>11.0</td>\n",
              "      <td>34.0</td>\n",
              "      <td>0.9978</td>\n",
              "      <td>3.51</td>\n",
              "      <td>0.56</td>\n",
              "      <td>9.4</td>\n",
              "      <td>5</td>\n",
              "    </tr>\n",
              "  </tbody>\n",
              "</table>\n",
              "</div>\n",
              "      <button class=\"colab-df-convert\" onclick=\"convertToInteractive('df-b93d3b75-9613-4608-ab8a-b92220481146')\"\n",
              "              title=\"Convert this dataframe to an interactive table.\"\n",
              "              style=\"display:none;\">\n",
              "        \n",
              "  <svg xmlns=\"http://www.w3.org/2000/svg\" height=\"24px\"viewBox=\"0 0 24 24\"\n",
              "       width=\"24px\">\n",
              "    <path d=\"M0 0h24v24H0V0z\" fill=\"none\"/>\n",
              "    <path d=\"M18.56 5.44l.94 2.06.94-2.06 2.06-.94-2.06-.94-.94-2.06-.94 2.06-2.06.94zm-11 1L8.5 8.5l.94-2.06 2.06-.94-2.06-.94L8.5 2.5l-.94 2.06-2.06.94zm10 10l.94 2.06.94-2.06 2.06-.94-2.06-.94-.94-2.06-.94 2.06-2.06.94z\"/><path d=\"M17.41 7.96l-1.37-1.37c-.4-.4-.92-.59-1.43-.59-.52 0-1.04.2-1.43.59L10.3 9.45l-7.72 7.72c-.78.78-.78 2.05 0 2.83L4 21.41c.39.39.9.59 1.41.59.51 0 1.02-.2 1.41-.59l7.78-7.78 2.81-2.81c.8-.78.8-2.07 0-2.86zM5.41 20L4 18.59l7.72-7.72 1.47 1.35L5.41 20z\"/>\n",
              "  </svg>\n",
              "      </button>\n",
              "      \n",
              "  <style>\n",
              "    .colab-df-container {\n",
              "      display:flex;\n",
              "      flex-wrap:wrap;\n",
              "      gap: 12px;\n",
              "    }\n",
              "\n",
              "    .colab-df-convert {\n",
              "      background-color: #E8F0FE;\n",
              "      border: none;\n",
              "      border-radius: 50%;\n",
              "      cursor: pointer;\n",
              "      display: none;\n",
              "      fill: #1967D2;\n",
              "      height: 32px;\n",
              "      padding: 0 0 0 0;\n",
              "      width: 32px;\n",
              "    }\n",
              "\n",
              "    .colab-df-convert:hover {\n",
              "      background-color: #E2EBFA;\n",
              "      box-shadow: 0px 1px 2px rgba(60, 64, 67, 0.3), 0px 1px 3px 1px rgba(60, 64, 67, 0.15);\n",
              "      fill: #174EA6;\n",
              "    }\n",
              "\n",
              "    [theme=dark] .colab-df-convert {\n",
              "      background-color: #3B4455;\n",
              "      fill: #D2E3FC;\n",
              "    }\n",
              "\n",
              "    [theme=dark] .colab-df-convert:hover {\n",
              "      background-color: #434B5C;\n",
              "      box-shadow: 0px 1px 3px 1px rgba(0, 0, 0, 0.15);\n",
              "      filter: drop-shadow(0px 1px 2px rgba(0, 0, 0, 0.3));\n",
              "      fill: #FFFFFF;\n",
              "    }\n",
              "  </style>\n",
              "\n",
              "      <script>\n",
              "        const buttonEl =\n",
              "          document.querySelector('#df-b93d3b75-9613-4608-ab8a-b92220481146 button.colab-df-convert');\n",
              "        buttonEl.style.display =\n",
              "          google.colab.kernel.accessAllowed ? 'block' : 'none';\n",
              "\n",
              "        async function convertToInteractive(key) {\n",
              "          const element = document.querySelector('#df-b93d3b75-9613-4608-ab8a-b92220481146');\n",
              "          const dataTable =\n",
              "            await google.colab.kernel.invokeFunction('convertToInteractive',\n",
              "                                                     [key], {});\n",
              "          if (!dataTable) return;\n",
              "\n",
              "          const docLinkHtml = 'Like what you see? Visit the ' +\n",
              "            '<a target=\"_blank\" href=https://colab.research.google.com/notebooks/data_table.ipynb>data table notebook</a>'\n",
              "            + ' to learn more about interactive tables.';\n",
              "          element.innerHTML = '';\n",
              "          dataTable['output_type'] = 'display_data';\n",
              "          await google.colab.output.renderOutput(dataTable, element);\n",
              "          const docLink = document.createElement('div');\n",
              "          docLink.innerHTML = docLinkHtml;\n",
              "          element.appendChild(docLink);\n",
              "        }\n",
              "      </script>\n",
              "    </div>\n",
              "  </div>\n",
              "  "
            ]
          },
          "metadata": {},
          "execution_count": 3
        }
      ],
      "source": [
        "#Let's check how the data is distributed\n",
        "wine.head()"
      ]
    },
    {
      "cell_type": "code",
      "execution_count": null,
      "metadata": {
        "_cell_guid": "704f4830-5804-436d-9b78-6ca00f5ae510",
        "_uuid": "af141503385967f92d409c5e111e2724b4c9636f",
        "colab": {
          "base_uri": "https://localhost:8080/"
        },
        "id": "YVRnJNtEcZO0",
        "outputId": "8d346761-f607-4e66-f835-3ac497a2744c"
      },
      "outputs": [
        {
          "output_type": "stream",
          "name": "stdout",
          "text": [
            "<class 'pandas.core.frame.DataFrame'>\n",
            "RangeIndex: 1599 entries, 0 to 1598\n",
            "Data columns (total 12 columns):\n",
            " #   Column                Non-Null Count  Dtype  \n",
            "---  ------                --------------  -----  \n",
            " 0   fixed acidity         1599 non-null   float64\n",
            " 1   volatile acidity      1599 non-null   float64\n",
            " 2   citric acid           1599 non-null   float64\n",
            " 3   residual sugar        1599 non-null   float64\n",
            " 4   chlorides             1599 non-null   float64\n",
            " 5   free sulfur dioxide   1599 non-null   float64\n",
            " 6   total sulfur dioxide  1599 non-null   float64\n",
            " 7   density               1599 non-null   float64\n",
            " 8   pH                    1599 non-null   float64\n",
            " 9   sulphates             1599 non-null   float64\n",
            " 10  alcohol               1599 non-null   float64\n",
            " 11  quality               1599 non-null   int64  \n",
            "dtypes: float64(11), int64(1)\n",
            "memory usage: 150.0 KB\n"
          ]
        }
      ],
      "source": [
        "#Information about the data columns\n",
        "wine.info()"
      ]
    },
    {
      "cell_type": "markdown",
      "metadata": {
        "_cell_guid": "12b9e3c1-006d-4b1d-b01d-02be5a594bbb",
        "_uuid": "e9ad3ce0e67ea7a5178222164d784a974846bc54",
        "id": "mi5R3vHfcZO1"
      },
      "source": [
        "## **Exploratory Data Analysis**"
      ]
    },
    {
      "cell_type": "code",
      "execution_count": null,
      "metadata": {
        "_cell_guid": "f6a9d2eb-e03c-4c8b-8d7f-c0cb735d9ce9",
        "_uuid": "255e8fd04c90eae23164df043ebf16550ecff8fe",
        "colab": {
          "base_uri": "https://localhost:8080/",
          "height": 559
        },
        "id": "CMAGS4hDcZO2",
        "outputId": "a5b0b992-f06e-4c8a-ff23-56ffa0c801ef"
      },
      "outputs": [
        {
          "output_type": "execute_result",
          "data": {
            "text/plain": [
              "<Axes: xlabel='quality', ylabel='fixed acidity'>"
            ]
          },
          "metadata": {},
          "execution_count": 5
        },
        {
          "output_type": "display_data",
          "data": {
            "text/plain": [
              "<Figure size 1000x600 with 1 Axes>"
            ],
            "image/png": "[encoded data removed]"
          },
          "metadata": {}
        }
      ],
      "source": [
        "fig = plt.figure(figsize = (10,6))\n",
        "sns.barplot(x = 'quality', y = 'fixed acidity', data = wine)"
      ]
    },
    {
      "cell_type": "code",
      "execution_count": null,
      "metadata": {
        "_cell_guid": "7d7355dc-9c09-4e5e-8989-87f903197898",
        "_uuid": "158a576b3fb80cc0978c322663bc5060d8977be0",
        "colab": {
          "base_uri": "https://localhost:8080/",
          "height": 559
        },
        "id": "hxFUFui9cZO4",
        "outputId": "3d3183c8-8ef9-43d4-dbc3-211bc670e69f"
      },
      "outputs": [
        {
          "output_type": "execute_result",
          "data": {
            "text/plain": [
              "<Axes: xlabel='quality', ylabel='volatile acidity'>"
            ]
          },
          "metadata": {},
          "execution_count": 6
        },
        {
          "output_type": "display_data",
          "data": {
            "text/plain": [
              "<Figure size 1000x600 with 1 Axes>"
            ],
            "image/png": "[encoded data removed]"
          },
          "metadata": {}
        }
      ],
      "source": [
        "fig = plt.figure(figsize = (10,6))\n",
        "sns.barplot(x = 'quality', y = 'volatile acidity', data = wine)"
      ]
    },
    {
      "cell_type": "code",
      "execution_count": null,
      "metadata": {
        "_cell_guid": "08f073d3-787b-4956-899b-6bd2bdf3cf91",
        "_uuid": "9600cd337636a7860a908fa36ad8084e230829ca",
        "colab": {
          "base_uri": "https://localhost:8080/",
          "height": 561
        },
        "id": "oWGnC7pBcZO-",
        "outputId": "460f9680-958a-43cb-e8d8-d764b9548925"
      },
      "outputs": [
        {
          "output_type": "execute_result",
          "data": {
            "text/plain": [
              "<Axes: xlabel='quality', ylabel='citric acid'>"
            ]
          },
          "metadata": {},
          "execution_count": 7
        },
        {
          "output_type": "display_data",
          "data": {
            "text/plain": [
              "<Figure size 1000x600 with 1 Axes>"
            ],
            "image/png": "[encoded data removed]"
          },
          "metadata": {}
        }
      ],
      "source": [
        "fig = plt.figure(figsize = (10,6))\n",
        "sns.barplot(x = 'quality', y = 'citric acid', data = wine)"
      ]
    },
    {
      "cell_type": "code",
      "execution_count": null,
      "metadata": {
        "_cell_guid": "7dcb76bc-3436-46bd-9d7f-78ccd436517e",
        "_uuid": "6b017770cef61eefb34b4607218c77f933350389",
        "colab": {
          "base_uri": "https://localhost:8080/",
          "height": 559
        },
        "id": "3yLBT0SFcZPA",
        "outputId": "7f56fc6e-9610-4d93-cc2c-5cc09a47df07"
      },
      "outputs": [
        {
          "output_type": "execute_result",
          "data": {
            "text/plain": [
              "<Axes: xlabel='quality', ylabel='residual sugar'>"
            ]
          },
          "metadata": {},
          "execution_count": 8
        },
        {
          "output_type": "display_data",
          "data": {
            "text/plain": [
              "<Figure size 1000x600 with 1 Axes>"
            ],
            "image/png": "[encoded data removed]"
          },
          "metadata": {}
        }
      ],
      "source": [
        "fig = plt.figure(figsize = (10,6))\n",
        "sns.barplot(x = 'quality', y = 'residual sugar', data = wine)"
      ]
    },
    {
      "cell_type": "code",
      "execution_count": null,
      "metadata": {
        "_cell_guid": "76463630-67d9-4b07-8076-fba8b49a9921",
        "_uuid": "31fe5d393946e406cbe62d3f4c7951e0b493c454",
        "colab": {
          "base_uri": "https://localhost:8080/",
          "height": 559
        },
        "id": "N8IEzSp6cZPD",
        "outputId": "84b63039-6be7-45e6-ff00-869022ba99c7"
      },
      "outputs": [
        {
          "output_type": "execute_result",
          "data": {
            "text/plain": [
              "<Axes: xlabel='quality', ylabel='chlorides'>"
            ]
          },
          "metadata": {},
          "execution_count": 9
        },
        {
          "output_type": "display_data",
          "data": {
            "text/plain": [
              "<Figure size 1000x600 with 1 Axes>"
            ],
            "image/png": "[encoded data removed]"
          },
          "metadata": {}
        }
      ],
      "source": [
        "fig = plt.figure(figsize = (10,6))\n",
        "sns.barplot(x = 'quality', y = 'chlorides', data = wine)"
      ]
    },
    {
      "cell_type": "code",
      "execution_count": null,
      "metadata": {
        "_cell_guid": "6abcf7a2-cc7a-4673-a905-6ee0c2cc9e15",
        "_uuid": "6ba9a0dafe8e1042da4dbcaa93706dd46cf3a85c",
        "colab": {
          "base_uri": "https://localhost:8080/",
          "height": 559
        },
        "id": "cEMi9dTdcZPE",
        "outputId": "73c1965e-c5c1-43a5-956d-9460a3fd7047"
      },
      "outputs": [
        {
          "output_type": "execute_result",
          "data": {
            "text/plain": [
              "<Axes: xlabel='quality', ylabel='free sulfur dioxide'>"
            ]
          },
          "metadata": {},
          "execution_count": 10
        },
        {
          "output_type": "display_data",
          "data": {
            "text/plain": [
              "<Figure size 1000x600 with 1 Axes>"
            ],
            "image/png": "[encoded data removed]"
          },
          "metadata": {}
        }
      ],
      "source": [
        "fig = plt.figure(figsize = (10,6))\n",
        "sns.barplot(x = 'quality', y = 'free sulfur dioxide', data = wine)"
      ]
    },
    {
      "cell_type": "code",
      "execution_count": null,
      "metadata": {
        "_cell_guid": "9acea621-2b7b-44b7-a0fa-b984dd8c0e93",
        "_uuid": "d99c6e4033da73cdc9d9977ac045372ff9af1c53",
        "colab": {
          "base_uri": "https://localhost:8080/",
          "height": 559
        },
        "id": "3eKz3_cCcZPF",
        "outputId": "d00ce0ea-d23f-4551-b0c4-eb1706a17fb4"
      },
      "outputs": [
        {
          "output_type": "execute_result",
          "data": {
            "text/plain": [
              "<Axes: xlabel='quality', ylabel='total sulfur dioxide'>"
            ]
          },
          "metadata": {},
          "execution_count": 11
        },
        {
          "output_type": "display_data",
          "data": {
            "text/plain": [
              "<Figure size 1000x600 with 1 Axes>"
            ],
            "image/png": "[encoded data removed]"
          },
          "metadata": {}
        }
      ],
      "source": [
        "fig = plt.figure(figsize = (10,6))\n",
        "sns.barplot(x = 'quality', y = 'total sulfur dioxide', data = wine)"
      ]
    },
    {
      "cell_type": "code",
      "execution_count": null,
      "metadata": {
        "_cell_guid": "bf0b1aa4-8a6c-4f95-80c3-7554b38a9c96",
        "_uuid": "ae9a7496f5c238ec9bb95729b17960c6e48efe35",
        "colab": {
          "base_uri": "https://localhost:8080/",
          "height": 559
        },
        "id": "BlRp-5mOcZPF",
        "outputId": "4b34c83a-681f-48b4-ce2f-bc01387ba7e8"
      },
      "outputs": [
        {
          "output_type": "execute_result",
          "data": {
            "text/plain": [
              "<Axes: xlabel='quality', ylabel='sulphates'>"
            ]
          },
          "metadata": {},
          "execution_count": 12
        },
        {
          "output_type": "display_data",
          "data": {
            "text/plain": [
              "<Figure size 1000x600 with 1 Axes>"
            ],
            "image/png": "[encoded data removed]"
          },
          "metadata": {}
        }
      ],
      "source": [
        "fig = plt.figure(figsize = (10,6))\n",
        "sns.barplot(x = 'quality', y = 'sulphates', data = wine)"
      ]
    },
    {
      "cell_type": "code",
      "execution_count": null,
      "metadata": {
        "_cell_guid": "04f51b1d-6315-44d3-986c-ed82fc996ad3",
        "_uuid": "81efa0b7799cd731aff98cffeaa28c361a7375a5",
        "colab": {
          "base_uri": "https://localhost:8080/",
          "height": 559
        },
        "id": "FPXuIh1ncZPG",
        "outputId": "8ab0b305-0ed7-4747-f121-de0cae231753"
      },
      "outputs": [
        {
          "output_type": "execute_result",
          "data": {
            "text/plain": [
              "<Axes: xlabel='quality', ylabel='alcohol'>"
            ]
          },
          "metadata": {},
          "execution_count": 13
        },
        {
          "output_type": "display_data",
          "data": {
            "text/plain": [
              "<Figure size 1000x600 with 1 Axes>"
            ],
            "image/png": "[encoded data removed]"
          },
          "metadata": {}
        }
      ],
      "source": [
        "fig = plt.figure(figsize = (10,6))\n",
        "sns.barplot(x = 'quality', y = 'alcohol', data = wine)"
      ]
    },
    {
      "cell_type": "markdown",
      "metadata": {
        "_cell_guid": "9838ca3d-4b89-4503-9d7e-247cc3a9730b",
        "_uuid": "974be3136a2f13bf26a88b26cbddbf73f5cafda9",
        "id": "5NLo8oPRcZPH"
      },
      "source": [
        "## Data Preprocessing for performing Machine learning algorithms"
      ]
    },
    {
      "cell_type": "code",
      "execution_count": null,
      "metadata": {
        "_cell_guid": "33e1c5c0-a65a-4918-8d94-db8e4c521d50",
        "_uuid": "3f082340d1b157391052f0fa20a44aa0105ce987",
        "collapsed": true,
        "id": "iIUIAX6zcZPI"
      },
      "outputs": [],
      "source": [
        "#Making binary classificaion for the response variable.\n",
        "#Dividing wine as good and bad by giving the limit for the quality\n",
        "bins = (2, 6.5, 9)\n",
        "group_names = ['bad', 'good']\n",
        "wine['quality'] = pd.cut(wine['quality'], bins = bins, labels = group_names)"
      ]
    },
    {
      "cell_type": "code",
      "execution_count": null,
      "metadata": {
        "_cell_guid": "21a15507-cc97-4c40-835b-51fd79f7cdd9",
        "_uuid": "87127b3c5e9493a9364b3c63401ddb11a51373a1",
        "collapsed": true,
        "id": "mtPx6CfucZPR"
      },
      "outputs": [],
      "source": [
        "#Now lets assign a labels to our quality variable\n",
        "label_quality = LabelEncoder()"
      ]
    },
    {
      "cell_type": "code",
      "execution_count": null,
      "metadata": {
        "_cell_guid": "f4c3a886-4b1f-4533-a660-b7ffb66376c2",
        "_uuid": "a592e2b8ece55e8d5928241eb5b9188226a725bf",
        "collapsed": true,
        "id": "_opgISa3cZPW"
      },
      "outputs": [],
      "source": [
        "#Bad becomes 0 and good becomes 1\n",
        "wine['quality'] = label_quality.fit_transform(wine['quality'])"
      ]
    },
    {
      "cell_type": "code",
      "execution_count": null,
      "metadata": {
        "_cell_guid": "faa36f65-7e80-44d7-a4f8-10e482cec684",
        "_uuid": "65a97517331f835cade698b594a7376ea7778eeb",
        "colab": {
          "base_uri": "https://localhost:8080/"
        },
        "id": "DuNQeA8scZPW",
        "outputId": "b474af99-12dc-426f-f642-e621a4a202c3"
      },
      "outputs": [
        {
          "output_type": "execute_result",
          "data": {
            "text/plain": [
              "0    1382\n",
              "1     217\n",
              "Name: quality, dtype: int64"
            ]
          },
          "metadata": {},
          "execution_count": 17
        }
      ],
      "source": [
        "wine['quality'].value_counts()"
      ]
    },
    {
      "cell_type": "code",
      "execution_count": null,
      "metadata": {
        "_cell_guid": "ba89712a-ad66-4a92-9214-4e35c3802d59",
        "_uuid": "b893deb26bb309c914de12aadf9ad8437deb8358",
        "collapsed": true,
        "id": "HFZG5XGBcZPX"
      },
      "outputs": [],
      "source": [
        "#Now seperate the dataset as response variable and feature variabes\n",
        "X = wine.drop('quality', axis = 1)\n",
        "y = wine['quality']"
      ]
    },
    {
      "cell_type": "code",
      "execution_count": null,
      "metadata": {
        "_cell_guid": "d7703d9a-3397-4c42-9b38-6f341cac1cde",
        "_uuid": "bdfc0f6ba146f947f265fd493e8327366fdb5c9a",
        "collapsed": true,
        "id": "2jam14dTcZPY"
      },
      "outputs": [],
      "source": [
        "#Train and Test splitting of data\n",
        "X_train, X_test, y_train, y_test = train_test_split(X, y, test_size = 0.2, random_state = 42)"
      ]
    },
    {
      "cell_type": "code",
      "execution_count": null,
      "metadata": {
        "_cell_guid": "cef31289-9cec-4ab1-afea-2ff34c36fec1",
        "_uuid": "ca68209bcd596b3cfcaf42837e4a6e49b6c12974",
        "collapsed": true,
        "id": "gllS-8hYcZPY"
      },
      "outputs": [],
      "source": [
        "#Applying Standard scaling to get optimized result\n",
        "sc = StandardScaler()"
      ]
    },
    {
      "cell_type": "code",
      "execution_count": null,
      "metadata": {
        "_cell_guid": "705b8e8a-a6d3-4e93-8b53-7c677b5b88c4",
        "_uuid": "7878194b0c4935904c68a88a91e18f9bbbabbda7",
        "collapsed": true,
        "id": "ngXHphsWcZPZ"
      },
      "outputs": [],
      "source": [
        "X_train = sc.fit_transform(X_train)\n",
        "X_test = sc.fit_transform(X_test)"
      ]
    },
    {
      "cell_type": "markdown",
      "metadata": {
        "_cell_guid": "645e952e-09b5-48df-9d08-aa6454ef333a",
        "_uuid": "3fd28a9b12fd0f5a00bc0add378ca1f9632bc319",
        "id": "dL1u5xtCcZPZ"
      },
      "source": [
        "## Our training and testing data is ready now to perform machine learning algorithm"
      ]
    },
    {
      "cell_type": "markdown",
      "metadata": {
        "_cell_guid": "0a12868b-8780-43b9-ae70-4c849407aac6",
        "_uuid": "093572f70cda59063611c1c888974e6a863ec7ef",
        "id": "1Z7QMFZEcZPZ"
      },
      "source": [
        "### Random Forest Classifier"
      ]
    },
    {
      "cell_type": "code",
      "execution_count": null,
      "metadata": {
        "_cell_guid": "f7d2ca14-40fa-4b7c-b902-d47f09214c75",
        "_uuid": "4c2c2a071bde3b44adf031a6807f51b47f8b5eaa",
        "collapsed": true,
        "id": "rYtYjd4DcZPa"
      },
      "outputs": [],
      "source": [
        "rfc = RandomForestClassifier(n_estimators=200)\n",
        "rfc.fit(X_train, y_train)\n",
        "pred_rfc = rfc.predict(X_test)"
      ]
    },
    {
      "cell_type": "code",
      "execution_count": null,
      "metadata": {
        "_cell_guid": "1cc15e56-0589-4fa3-a4f1-6f5e7b5547b2",
        "_uuid": "61e8a79a7db4fef289b8d4e3b3dd8e1c01756697",
        "colab": {
          "base_uri": "https://localhost:8080/"
        },
        "id": "RB9aG8FScZPi",
        "outputId": "c97c0aa0-5a5f-4996-8f16-585b234375f0"
      },
      "outputs": [
        {
          "output_type": "stream",
          "name": "stdout",
          "text": [
            "              precision    recall  f1-score   support\n",
            "\n",
            "           0       0.92      0.96      0.94       273\n",
            "           1       0.69      0.51      0.59        47\n",
            "\n",
            "    accuracy                           0.89       320\n",
            "   macro avg       0.80      0.74      0.76       320\n",
            "weighted avg       0.88      0.89      0.89       320\n",
            "\n"
          ]
        }
      ],
      "source": [
        "#Let's see how our model performed\n",
        "print(classification_report(y_test, pred_rfc))"
      ]
    },
    {
      "cell_type": "markdown",
      "metadata": {
        "_cell_guid": "6fc282fd-9db3-4c69-bf91-f9daaaec615b",
        "_uuid": "eaa7b2cbb80adbb06133b9cd89a8ebae014dc3e8",
        "id": "pEnsf79GcZPi"
      },
      "source": [
        "#### Random forest gives the accuracy of 87%"
      ]
    },
    {
      "cell_type": "code",
      "execution_count": null,
      "metadata": {
        "_cell_guid": "84334dbd-d36c-4650-87ab-d3e8f73be63c",
        "_uuid": "0fd8c7cd7741be25fd0d5f56d5711e8aaf44ac0f",
        "colab": {
          "base_uri": "https://localhost:8080/"
        },
        "id": "pwjSiLFPcZPj",
        "outputId": "ed1433e0-bc87-4222-a02a-517ae21c882d"
      },
      "outputs": [
        {
          "output_type": "stream",
          "name": "stdout",
          "text": [
            "[[264   9]\n",
            " [ 28  19]]\n"
          ]
        }
      ],
      "source": [
        "#Confusion matrix for the random forest classification\n",
        "print(confusion_matrix(y_test, pred_rfc))"
      ]
    },
    {
      "cell_type": "markdown",
      "metadata": {
        "_cell_guid": "d6cd1c1f-9531-4c6a-87c1-262dd7fb6caf",
        "_uuid": "9f705df2b81e776eedc164c5d933ff4dd4c61d31",
        "id": "GXFdfho2cZPu"
      },
      "source": [
        "## Cross Validation Score for random forest"
      ]
    },
    {
      "cell_type": "code",
      "execution_count": null,
      "metadata": {
        "_cell_guid": "a5507be9-a3eb-4bba-b8d5-928d015faadf",
        "_uuid": "24a7f7dc1bf59eaae6e5ea5a6f61130664fcd260",
        "colab": {
          "base_uri": "https://localhost:8080/"
        },
        "id": "wxZMOYC9cZPv",
        "outputId": "4e4d7854-2255-4e44-e382-beccef89e2b5"
      },
      "outputs": [
        {
          "output_type": "execute_result",
          "data": {
            "text/plain": [
              "0.9124630905511811"
            ]
          },
          "metadata": {},
          "execution_count": 30
        }
      ],
      "source": [
        "#Now lets try to do some evaluation for random forest model using cross validation.\n",
        "rfc_eval = cross_val_score(estimator = rfc, X = X_train, y = y_train, cv = 10)\n",
        "rfc_eval.mean()"
      ]
    },
    {
      "cell_type": "markdown",
      "metadata": {
        "_cell_guid": "4a6ab3c5-4b28-442e-be48-9e3eb14a6e79",
        "_uuid": "186ca0ca24faac487ca40563c9490f94f51a433a",
        "id": "bVRwg5kocZPv"
      },
      "source": [
        "### Random forest has a good cross validation score of 91 % which indicates minimal overfitting."
      ]
    },
    {
      "cell_type": "markdown",
      "metadata": {
        "_cell_guid": "83d17bc9-b35a-4561-9368-bb8cd59558d4",
        "_uuid": "fca769d889ee6043785cad11fe54c455e1a4d0c2",
        "id": "lZlrwO2mcZPw"
      },
      "source": [
        "### Thank for going through this notebook"
      ]
    }
  ],
  "metadata": {
    "kernelspec": {
      "display_name": "Python 3",
      "language": "python",
      "name": "python3"
    },
    "language_info": {
      "codemirror_mode": {
        "name": "ipython",
        "version": 3
      },
      "file_extension": ".py",
      "mimetype": "text/x-python",
      "name": "python",
      "nbconvert_exporter": "python",
      "pygments_lexer": "ipython3",
      "version": "3.6.4"
    },
    "colab": {
      "provenance": [],
      "include_colab_link": true
    }
  },
  "nbformat": 4,
  "nbformat_minor": 0
}